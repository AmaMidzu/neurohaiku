{
 "cells": [
  {
   "cell_type": "code",
   "execution_count": 1,
   "metadata": {
    "collapsed": true
   },
   "outputs": [],
   "source": [
    "import codecs"
   ]
  },
  {
   "cell_type": "code",
   "execution_count": 13,
   "metadata": {
    "collapsed": false
   },
   "outputs": [],
   "source": [
    "allowed = u' абвгдежзийклмнопрстуфхцчшщъыьэюя'\n",
    "\n",
    "with codecs.open('haiku-prep.txt', 'wt', encoding='utf-8') as f:\n",
    "    for line in codecs.open('haiku.txt', 'rt', encoding='utf-8'):\n",
    "        line = line.strip().lower()\n",
    "        outline = u''\n",
    "        for char in line:\n",
    "            if char in allowed:\n",
    "                outline += char\n",
    "            elif char == u'ё':\n",
    "                outline += u'е'\n",
    "        f.write(outline + u'\\n')"
   ]
  }
 ],
 "metadata": {
  "kernelspec": {
   "display_name": "Python 2",
   "language": "python",
   "name": "python2"
  },
  "language_info": {
   "codemirror_mode": {
    "name": "ipython",
    "version": 2
   },
   "file_extension": ".py",
   "mimetype": "text/x-python",
   "name": "python",
   "nbconvert_exporter": "python",
   "pygments_lexer": "ipython2",
   "version": "2.7.6"
  }
 },
 "nbformat": 4,
 "nbformat_minor": 0
}
