{
 "cells": [
  {
   "cell_type": "code",
   "execution_count": 3,
   "metadata": {
    "collapsed": true
   },
   "outputs": [],
   "source": [
    "import codecs\n",
    "import re"
   ]
  },
  {
   "cell_type": "code",
   "execution_count": 4,
   "metadata": {
    "collapsed": false
   },
   "outputs": [],
   "source": [
    "allowed = u' абвгдежзийклмнопрстуфхцчшщъыьэюя'\n",
    "\n",
    "def prep(infile, outfile):\n",
    "    with codecs.open(outfile, 'wt', encoding='utf-8') as f:\n",
    "        empty_last_line = True\n",
    "        for line in codecs.open(infile, 'rt', encoding='utf-8'):\n",
    "            line = line.strip().lower()\n",
    "            outline = u''\n",
    "            for char in line:\n",
    "                if char in allowed:\n",
    "                    outline += char\n",
    "                elif char == u'ё':\n",
    "                    outline += u'е'\n",
    "            outline = re.sub(r'\\s+', ' ', outline).strip()\n",
    "            if not outline:\n",
    "                if not empty_last_line:\n",
    "                    f.write(u'\\n')\n",
    "                    empty_last_line = True\n",
    "            else:\n",
    "                f.write(outline + u'\\n')\n",
    "                empty_last_line = False"
   ]
  },
  {
   "cell_type": "code",
   "execution_count": 5,
   "metadata": {
    "collapsed": false
   },
   "outputs": [],
   "source": [
    "prep('rannii_pushkin.txt', 'rannii_pushkin_prep.txt')"
   ]
  },
  {
   "cell_type": "code",
   "execution_count": null,
   "metadata": {
    "collapsed": true
   },
   "outputs": [],
   "source": []
  }
 ],
 "metadata": {
  "kernelspec": {
   "display_name": "Python 2",
   "language": "python",
   "name": "python2"
  },
  "language_info": {
   "codemirror_mode": {
    "name": "ipython",
    "version": 2
   },
   "file_extension": ".py",
   "mimetype": "text/x-python",
   "name": "python",
   "nbconvert_exporter": "python",
   "pygments_lexer": "ipython2",
   "version": "2.7.6"
  }
 },
 "nbformat": 4,
 "nbformat_minor": 0
}
