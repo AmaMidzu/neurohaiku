{
 "cells": [
  {
   "cell_type": "code",
   "execution_count": 6,
   "metadata": {
    "collapsed": true
   },
   "outputs": [],
   "source": [
    "import requests\n",
    "import re2"
   ]
  },
  {
   "cell_type": "code",
   "execution_count": 64,
   "metadata": {
    "collapsed": true
   },
   "outputs": [],
   "source": [
    "last_page = 29\n",
    "def pagecontent(num):\n",
    "    url = 'http://japanpoetry.ru/hokku/page-{}-catalog'.format(num)\n",
    "    resp = requests.get(url)\n",
    "    assert resp.status_code == 200\n",
    "    assert resp.encoding == 'utf-8'\n",
    "    return resp.text.replace('\\r', '\\n')"
   ]
  },
  {
   "cell_type": "code",
   "execution_count": 93,
   "metadata": {
    "collapsed": false
   },
   "outputs": [],
   "source": [
    "haiku_re = re2.compile(r'(?s)<div class=\"poetry_text\">(?P<text>.*?)<div class=\"details\">')\n",
    "lines_re = re2.compile(r'(?s)</div>(?P<line1>[^<]*?)<br />(?P<line2>[^<]*?)<br />(?P<line3>[^<]*?)</div>')\n",
    "def all_matches(r, s, fields):\n",
    "    pos = 0\n",
    "    s = s.encode('utf-8')\n",
    "    while True:\n",
    "        m = r.search(s, pos)\n",
    "        if not m:\n",
    "            return\n",
    "        d = m.groupdict()\n",
    "        \n",
    "        yield [d[f].decode('utf-8') for f in fields]\n",
    "        pos = m.end()"
   ]
  },
  {
   "cell_type": "code",
   "execution_count": 96,
   "metadata": {
    "collapsed": false
   },
   "outputs": [
    {
     "name": "stdout",
     "output_type": "stream",
     "text": [
      "got page 1\n",
      "got page 2\n",
      "got page 3\n",
      "got page 4\n",
      "got page 5\n",
      "got page 6\n",
      "got page 7\n",
      "got page 8\n",
      "got page 9\n",
      "got page 10\n",
      "got page 11\n",
      "got page 12\n",
      "got page 13\n",
      "got page 14\n",
      "got page 15\n",
      "got page 16\n",
      "got page 17\n",
      "got page 18\n",
      "got page 19\n",
      "got page 20\n",
      "got page 21\n",
      "got page 22\n",
      "got page 23\n",
      "got page 24\n",
      "got page 25\n",
      "got page 26\n",
      "got page 27\n",
      "got page 28\n",
      "got page 29\n"
     ]
    }
   ],
   "source": [
    "with open('haiku.txt', 'wt') as f:\n",
    "    for i in range(1,last_page + 1):\n",
    "        page = pagecontent(i)\n",
    "        print 'got page', i\n",
    "        for haiku in all_matches(lines_re, page, ['line1', 'line2', 'line3']):\n",
    "            for line in haiku:\n",
    "                f.write(line.strip().encode('utf-8') + '\\n')\n",
    "            f.write('\\n')\n"
   ]
  },
  {
   "cell_type": "code",
   "execution_count": null,
   "metadata": {
    "collapsed": true
   },
   "outputs": [],
   "source": []
  }
 ],
 "metadata": {
  "kernelspec": {
   "display_name": "Python 2",
   "language": "python",
   "name": "python2"
  },
  "language_info": {
   "codemirror_mode": {
    "name": "ipython",
    "version": 2
   },
   "file_extension": ".py",
   "mimetype": "text/x-python",
   "name": "python",
   "nbconvert_exporter": "python",
   "pygments_lexer": "ipython2",
   "version": "2.7.6"
  }
 },
 "nbformat": 4,
 "nbformat_minor": 0
}
